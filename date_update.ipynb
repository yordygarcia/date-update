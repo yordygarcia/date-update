{
 "cells": [
  {
   "cell_type": "markdown",
   "metadata": {
    "id": "ASxT5CEEn01v"
   },
   "source": [
    "Script creado para la correción de fechas de cualquier archivo Excel. "
   ]
  },
  {
   "cell_type": "code",
   "execution_count": null,
   "metadata": {
    "id": "BJKIGz-F4yV7"
   },
   "outputs": [],
   "source": [
    "#indica el path del archivo Excel donde está el campo fecha a modificar\n",
    "path = '/content/TOP.xlsx'"
   ]
  },
  {
   "cell_type": "code",
   "execution_count": null,
   "metadata": {
    "id": "WOiAlIVgoB8r"
   },
   "outputs": [],
   "source": []
  },
  {
   "cell_type": "code",
   "execution_count": 1,
   "metadata": {
    "executionInfo": {
     "elapsed": 14,
     "status": "ok",
     "timestamp": 1666222790452,
     "user": {
      "displayName": "Yordy Garcia",
      "userId": "16590731399419889523"
     },
     "user_tz": 300
    },
    "id": "zWcdzB7m4tYA"
   },
   "outputs": [],
   "source": [
    "#importa librerías\n",
    "import pandas as pd\n",
    "import transform as tf\n",
    "import warnings\n",
    "warnings.filterwarnings('ignore')"
   ]
  },
  {
   "cell_type": "code",
   "execution_count": null,
   "metadata": {
    "id": "6e_yDdziA--h"
   },
   "outputs": [],
   "source": [
    "#importa archivo Excel, el campo RUC especifica que es texto para no haya errores con los Número RUC\n",
    "data = pd.read_excel(path, converters = {'RUC':str})"
   ]
  },
  {
   "cell_type": "code",
   "execution_count": null,
   "metadata": {
    "colab": {
     "base_uri": "https://localhost:8080/",
     "height": 165
    },
    "executionInfo": {
     "elapsed": 9,
     "status": "error",
     "timestamp": 1666116186103,
     "user": {
      "displayName": "Katherine Arlyne Guardamino Valdez",
      "userId": "15545649108509900269"
     },
     "user_tz": 300
    },
    "id": "H3EGR_A-C_js",
    "outputId": "ee6d9a39-acdd-4a39-daaf-e570d3d1e48b"
   },
   "outputs": [
    {
     "ename": "NameError",
     "evalue": "ignored",
     "output_type": "error",
     "traceback": [
      "\u001b[0;31m---------------------------------------------------------------------------\u001b[0m",
      "\u001b[0;31mNameError\u001b[0m                                 Traceback (most recent call last)",
      "\u001b[0;32m<ipython-input-5-8682ca356bd0>\u001b[0m in \u001b[0;36m<module>\u001b[0;34m\u001b[0m\n\u001b[0;32m----> 1\u001b[0;31m \u001b[0mdata\u001b[0m \u001b[0;34m=\u001b[0m \u001b[0mtf\u001b[0m\u001b[0;34m.\u001b[0m\u001b[0mupdate_date\u001b[0m\u001b[0;34m(\u001b[0m\u001b[0mdata\u001b[0m\u001b[0;34m,\u001b[0m\u001b[0;34m'FECHA DE REGISTRO'\u001b[0m\u001b[0;34m)\u001b[0m\u001b[0;34m\u001b[0m\u001b[0;34m\u001b[0m\u001b[0m\n\u001b[0m",
      "\u001b[0;31mNameError\u001b[0m: name 'tf' is not defined"
     ]
    }
   ],
   "source": [
    "#Realiza la transformación del campo fecha, \n",
    "#se debe especificar el nombre de la columna que se desea modificar\n",
    "#para este caso se realiza el cambio en la columna 'FECHA DE REGISTRO'\n",
    "\n",
    "data = tf.update_date(data, 'FECHA DE REGISTRO')"
   ]
  },
  {
   "cell_type": "code",
   "execution_count": null,
   "metadata": {
    "id": "D2mElw_FDw70"
   },
   "outputs": [],
   "source": [
    "data = tf.update_date(data, 'FECHA DE EMISION')"
   ]
  },
  {
   "cell_type": "code",
   "execution_count": null,
   "metadata": {
    "id": "IGa20fhgDwy3"
   },
   "outputs": [],
   "source": [
    "#se exporta a un archivo Excel\n",
    "\n",
    "data.to_excel('fechas corregidas.xlsx', index = False)"
   ]
  },
  {
   "cell_type": "code",
   "execution_count": null,
   "metadata": {
    "id": "VA3dKIOPDwvs"
   },
   "outputs": [],
   "source": []
  }
 ],
 "metadata": {
  "colab": {
   "collapsed_sections": [],
   "provenance": []
  },
  "kernelspec": {
   "display_name": "Python 3",
   "language": "python",
   "name": "python3"
  },
  "language_info": {
   "codemirror_mode": {
    "name": "ipython",
    "version": 3
   },
   "file_extension": ".py",
   "mimetype": "text/x-python",
   "name": "python",
   "nbconvert_exporter": "python",
   "pygments_lexer": "ipython3",
   "version": "3.8.5"
  }
 },
 "nbformat": 4,
 "nbformat_minor": 1
}
